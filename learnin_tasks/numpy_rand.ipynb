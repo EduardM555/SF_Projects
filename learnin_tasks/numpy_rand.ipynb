{
 "cells": [
  {
   "cell_type": "code",
   "execution_count": 19,
   "metadata": {},
   "outputs": [
    {
     "data": {
      "text/plain": [
       "numpy.ndarray"
      ]
     },
     "execution_count": 19,
     "metadata": {},
     "output_type": "execute_result"
    }
   ],
   "source": [
    "import numpy as np\n",
    "\n",
    "arr = np.random.rand(5)\n",
    "type(arr)"
   ]
  },
  {
   "cell_type": "code",
   "execution_count": 22,
   "metadata": {},
   "outputs": [
    {
     "data": {
      "text/plain": [
       "array([[0.15348442, 0.96238357],\n",
       "       [0.82146101, 0.32499074],\n",
       "       [0.35671001, 0.50584253],\n",
       "       [0.86406203, 0.25865763],\n",
       "       [0.68728638, 0.5993269 ]])"
      ]
     },
     "execution_count": 22,
     "metadata": {},
     "output_type": "execute_result"
    }
   ],
   "source": [
    "# np.random.rand((5, 2)) - ошибка tuple\n",
    "np.random.rand(*(5, 2))\n",
    "\n",
    "\n",
    "np.random.rand(5, 2)\n",
    "\n"
   ]
  },
  {
   "cell_type": "code",
   "execution_count": 34,
   "metadata": {},
   "outputs": [
    {
     "data": {
      "text/plain": [
       "array([[-100.17852994, -101.54779659, -100.3488885 , -100.53864456],\n",
       "       [-101.35143534, -100.2846306 , -100.73957635, -100.32754156],\n",
       "       [-101.33433316, -101.5650347 , -101.97236609, -101.48320191]])"
      ]
     },
     "execution_count": 34,
     "metadata": {},
     "output_type": "execute_result"
    }
   ],
   "source": [
    "np.random.uniform(-102, -100, (3, 4))"
   ]
  },
  {
   "cell_type": "code",
   "execution_count": 52,
   "metadata": {},
   "outputs": [
    {
     "data": {
      "text/plain": [
       "array([[6, 6],\n",
       "       [5, 5]])"
      ]
     },
     "execution_count": 52,
     "metadata": {},
     "output_type": "execute_result"
    }
   ],
   "source": [
    "np.random.randint(5, 7, size=(2, 2))"
   ]
  },
  {
   "cell_type": "code",
   "execution_count": 57,
   "metadata": {},
   "outputs": [
    {
     "name": "stdout",
     "output_type": "stream",
     "text": [
      "[0 1 2 3 4 5]\n"
     ]
    },
    {
     "data": {
      "text/plain": [
       "array([1, 3, 2, 0, 5, 4])"
      ]
     },
     "execution_count": 57,
     "metadata": {},
     "output_type": "execute_result"
    }
   ],
   "source": [
    "arr = np.arange(6)\n",
    "print(arr)\n",
    "np.random.shuffle(arr)\n",
    "arr"
   ]
  },
  {
   "cell_type": "code",
   "execution_count": 63,
   "metadata": {},
   "outputs": [
    {
     "name": "stdout",
     "output_type": "stream",
     "text": [
      "[0 1 2 3 4 5]\n",
      "[2 0 3 5 1 4]\n"
     ]
    }
   ],
   "source": [
    "arr = np.arange(6)\n",
    "print(arr)\n",
    "\n",
    "arr2 = np.random.permutation(arr)\n",
    "print(arr2)"
   ]
  },
  {
   "cell_type": "code",
   "execution_count": 76,
   "metadata": {},
   "outputs": [
    {
     "name": "stdout",
     "output_type": "stream",
     "text": [
      "('Ed', 'Lyuda', 'Minnibaev')\n",
      "['Ed' 'Minnibaev' 'Lyuda']\n"
     ]
    }
   ],
   "source": [
    "arr = ['Eduard', 'Lyuda', 'Vika', 'Irina']\n",
    "arr3 = tuple()\n",
    "arr3 = ('Ed', 'Lyuda', 'Minnibaev')\n",
    "print(arr3)\n",
    "arr2 = np.random.permutation(arr3)\n",
    "print(arr2)"
   ]
  },
  {
   "cell_type": "code",
   "execution_count": 99,
   "metadata": {},
   "outputs": [
    {
     "data": {
      "text/plain": [
       "array(['Kate', 'Ivan', 'Nikita', 'Maria', 'Nikita', 'John', 'Ivan',\n",
       "       'John', 'Ivan', 'Nikita'], dtype='<U6')"
      ]
     },
     "execution_count": 99,
     "metadata": {},
     "output_type": "execute_result"
    }
   ],
   "source": [
    "workers = ['Ivan', 'Nikita', 'Maria', 'John', 'Kate']\n",
    "\n",
    "choice = np.random.choice(workers, size=10, replace=True)\n",
    "choice"
   ]
  },
  {
   "cell_type": "code",
   "execution_count": 102,
   "metadata": {},
   "outputs": [
    {
     "name": "stdout",
     "output_type": "stream",
     "text": [
      "[8 8 3]\n",
      "[7 7 0]\n",
      "[4 2 5]\n",
      "[3 1 5]\n",
      "[3 3 6]\n",
      "[4 4 0]\n",
      "[8 8 3]\n",
      "[7 7 0]\n",
      "[4 2 5]\n",
      "[7 3 3]\n",
      "[0 2 5]\n",
      "[5 6 1]\n"
     ]
    }
   ],
   "source": [
    "np.random.seed(100)\n",
    "print(np.random.randint(10, size=3))\n",
    "# [8 8 3]\n",
    "print(np.random.randint(10, size=3))\n",
    "# [7 7 0]\n",
    "print(np.random.randint(10, size=3))\n",
    "# [4 2 5]\n",
    "np.random.seed()\n",
    "print(np.random.randint(10, size=3))\n",
    "print(np.random.randint(10, size=3))\n",
    "print(np.random.randint(10, size=3))\n",
    "np.random.seed(100)\n",
    "print(np.random.randint(10, size=3))\n",
    "# [8 8 3]\n",
    "print(np.random.randint(10, size=3))\n",
    "# [7 7 0]\n",
    "print(np.random.randint(10, size=3))\n",
    "# [4 2 5]\n",
    "np.random.seed()\n",
    "print(np.random.randint(10, size=3))\n",
    "print(np.random.randint(10, size=3))\n",
    "print(np.random.randint(10, size=3))"
   ]
  },
  {
   "cell_type": "code",
   "execution_count": 109,
   "metadata": {},
   "outputs": [
    {
     "name": "stdout",
     "output_type": "stream",
     "text": [
      "0.6059782788074047\n",
      "Печатаем table\n",
      " [[46 93]\n",
      " [35 41]\n",
      " [17 45]]\n",
      "[ 2  4  6  8 10 12 14 16]\n",
      "[ 2  4  6  8 10 12 14 16]\n",
      "[ 6 10  2  8 14 16  4 12]\n",
      "[ 2  4  6  8 10 12 14 16]\n",
      "[14  2  4]\n",
      "[ 2  4 14]\n"
     ]
    }
   ],
   "source": [
    "np.random.seed(2021)\n",
    "\n",
    "simple = np.random.rand()\n",
    "print(simple)\n",
    "\n",
    "randoms = np.random.uniform(-150, 2021, 120)\n",
    "# print(randoms)\n",
    "\n",
    "table = np.random.randint(1, 101, (3, 2))\n",
    "print('Печатаем table\\n', table)\n",
    "\n",
    "even = np.arange(2, 17, 2)\n",
    "print(even)\n",
    "\n",
    "# mix = np.random.permutation(even)\n",
    "mix = np.array(even)\n",
    "print(mix)\n",
    "\n",
    "np.random.shuffle(mix)\n",
    "print(mix)\n",
    "print(even)\n",
    "\n",
    "select = np.random.choice(even, size=3, replace=False)\n",
    "print(select)\n",
    "\n",
    "triplet = np.random.permutation(select)\n",
    "print(triplet)"
   ]
  },
  {
   "cell_type": "code",
   "execution_count": 149,
   "metadata": {},
   "outputs": [
    {
     "name": "stdout",
     "output_type": "stream",
     "text": [
      "[[0. 1. 0. 1. 0.]\n",
      " [1. 0. 1. 0. 1.]\n",
      " [0. 1. 0. 1. 0.]\n",
      " [1. 0. 1. 0. 1.]\n",
      " [0. 1. 0. 1. 0.]]\n"
     ]
    }
   ],
   "source": [
    "def get_chess(a):\n",
    "    arr = np.zeros((a, a))\n",
    "    if a == 1:\n",
    "        return arr\n",
    "    arr[1::2, ::2] = 1\n",
    "    arr[::2, 1::2] = 1\n",
    "    return arr\n",
    "\n",
    "print(get_chess(5))"
   ]
  },
  {
   "cell_type": "code",
   "execution_count": 172,
   "metadata": {},
   "outputs": [
    {
     "name": "stdout",
     "output_type": "stream",
     "text": [
      "(array([1, 3, 4, 2, 5]), 3155847309)\n"
     ]
    },
    {
     "data": {
      "text/plain": [
       "736081126"
      ]
     },
     "execution_count": 172,
     "metadata": {},
     "output_type": "execute_result"
    }
   ],
   "source": [
    "array = [1, 2, 3, 4, 5]\n",
    "def shuffle_seed(array):\n",
    "    rand_seed = np.random.randint(2**32 - 1, dtype='uint32')\n",
    "    np.random.seed(rand_seed)\n",
    "    return np.random.permutation(array), rand_seed\n",
    "\n",
    "# np.random.randint(2**32 - 1, dtype='uint32')\n",
    "print(shuffle_seed(array))\n",
    "x, y = shuffle_seed(array)\n",
    "y"
   ]
  },
  {
   "cell_type": "code",
   "execution_count": 181,
   "metadata": {},
   "outputs": [
    {
     "name": "stdout",
     "output_type": "stream",
     "text": [
      "(5.196152422706632, 5.196152422706632)\n"
     ]
    }
   ],
   "source": [
    "# def min_max_dist(*vectors):\n",
    "#     # vec_dist = np.zeros(len(vectors)**2)\n",
    "#     dists = list()\n",
    "#     max_dist = 0\n",
    "#     min_dist = np.linalg.norm(vectors[1] - vectors[0])\n",
    "#     for i in range(len(vectors)):\n",
    "#         for j in range(i + 1, len(vectors)):\n",
    "#             if vec1 is vectors[j]:\n",
    "#                 continue\n",
    "#             temp = np.linalg.norm(vec1 - vectors[j])\n",
    "#             max_dist = temp if temp > max_dist else max_dist\n",
    "#             min_dist = temp if temp < min_dist else min_dist\n",
    "#     return (min_dist, max_dist)\n",
    "\n",
    "def min_max_dist(*vectors):\n",
    "    dists = list()\n",
    "    for i in range(len(vectors)):\n",
    "        for j in range(i + 1, len(vectors)):\n",
    "            dists.append(np.linalg.norm(vectors[j] - vectors[i]))\n",
    "    return (min(dists), min(dists))\n",
    "\n",
    "\n",
    "vec1 = np.array([1,2,3])\n",
    "vec2 = np.array([4,5,6])\n",
    "vec3 = np.array([7, 8, 9])\n",
    "\n",
    "print(min_max_dist(vec1, vec2, vec3))\n",
    "\n",
    "        \n",
    "            "
   ]
  },
  {
   "cell_type": "code",
   "execution_count": 183,
   "metadata": {},
   "outputs": [
    {
     "name": "stdout",
     "output_type": "stream",
     "text": [
      "True\n"
     ]
    }
   ],
   "source": [
    "def any_normal(*vectors):\n",
    "    for i in range(len(vectors)):\n",
    "        for j in range(i + 1, len(vectors)):\n",
    "            scalar_product = np.dot(vectors[i], vectors[j])\n",
    "            if scalar_product == 0:\n",
    "                return True\n",
    "    return False\n",
    "\n",
    "vec1 = np.array([2, 1])\n",
    "vec2 = np.array([-1, 2])\n",
    "vec3 = np.array([3,4])\n",
    "print(any_normal(vec1, vec2, vec3))"
   ]
  },
  {
   "cell_type": "code",
   "execution_count": 202,
   "metadata": {},
   "outputs": [
    {
     "data": {
      "text/plain": [
       "array([[[6, 5, 4, 7, 8],\n",
       "        [6, 2, 9, 4, 7],\n",
       "        [3, 1, 4, 4, 3],\n",
       "        [4, 1, 1, 4, 1],\n",
       "        [9, 3, 1, 6, 9]],\n",
       "\n",
       "       [[3, 7, 8, 1, 7],\n",
       "        [2, 9, 6, 1, 7],\n",
       "        [8, 1, 8, 7, 4],\n",
       "        [5, 8, 5, 3, 1],\n",
       "        [6, 6, 1, 7, 4]]])"
      ]
     },
     "execution_count": 202,
     "metadata": {},
     "output_type": "execute_result"
    }
   ],
   "source": [
    "# def get_loto(num):\n",
    "#     arr = np.random.choice(np.arange(1, 101), (num, 5, 5), replace=False)\n",
    "#     return arr\n",
    "\n",
    "def get_loto(num):\n",
    "    arr = np.random.randint(1, 10, (num, 5, 5))\n",
    "    return arr\n",
    "\n",
    "get_loto(2)"
   ]
  },
  {
   "cell_type": "code",
   "execution_count": 211,
   "metadata": {},
   "outputs": [
    {
     "data": {
      "text/plain": [
       "array([[[ 87,  63,  70,  83,  47],\n",
       "        [ 80,  31,  97,  32,  40],\n",
       "        [ 46,  75,  36,  37,  55],\n",
       "        [ 38,  93,  79,  69,   3],\n",
       "        [  9,  91,  56,  20,  14]],\n",
       "\n",
       "       [[ 22,  66,  26,  73, 100],\n",
       "        [ 21,  51,  10,   3,  97],\n",
       "        [ 82,  83,   9,  63,  67],\n",
       "        [ 59,  62,  69,  71,  79],\n",
       "        [ 76,   6,  11,  65,   7]],\n",
       "\n",
       "       [[ 24,  94,  41,  29, 100],\n",
       "        [  9,  11,  58,  49,  65],\n",
       "        [ 26,  98,  84,  38,  52],\n",
       "        [ 15,  77,  10,  44,  87],\n",
       "        [ 53,   7,  74,  64,  14]]])"
      ]
     },
     "execution_count": 211,
     "metadata": {},
     "output_type": "execute_result"
    }
   ],
   "source": [
    "# def get_unique_loto(num):\n",
    "#     arr = np.zeros((num, 5, 5), dtype=int)\n",
    "#     for i in range(num):\n",
    "#         arr[i] = np.random.choice(np.arange(1, 101), size=(5, 5), replace=False)\n",
    "#     return arr\n",
    "\n",
    "def get_unique_loto(num):\n",
    "    sample = np.arange(1, 101)\n",
    "    res = list()\n",
    "    for i in range(num):\n",
    "        res.append(np.random.choice(sample, replace=False, size=(5, 5)))\n",
    "    res = np.array(res)\n",
    "    return res\n",
    "\n",
    "get_unique_loto(3)"
   ]
  },
  {
   "cell_type": "code",
   "execution_count": 215,
   "metadata": {},
   "outputs": [
    {
     "data": {
      "text/plain": [
       "array([  19,  242,   14,  152,  142, 1000])"
      ]
     },
     "execution_count": 215,
     "metadata": {},
     "output_type": "execute_result"
    }
   ],
   "source": [
    "simplelist = [19, 242, 14, 152, 142, 1000]\n",
    "\n",
    "arr = np.array(simplelist)\n",
    "arr.mean()\n",
    "arr"
   ]
  }
 ],
 "metadata": {
  "kernelspec": {
   "display_name": "Python 3",
   "language": "python",
   "name": "python3"
  },
  "language_info": {
   "codemirror_mode": {
    "name": "ipython",
    "version": 3
   },
   "file_extension": ".py",
   "mimetype": "text/x-python",
   "name": "python",
   "nbconvert_exporter": "python",
   "pygments_lexer": "ipython3",
   "version": "3.10.6 (tags/v3.10.6:9c7b4bd, Aug  1 2022, 21:53:49) [MSC v.1932 64 bit (AMD64)]"
  },
  "orig_nbformat": 4,
  "vscode": {
   "interpreter": {
    "hash": "9b4d75ac280b6c7c3aa43866cb82dc88915409b55fec83a093dd0284cb58708e"
   }
  }
 },
 "nbformat": 4,
 "nbformat_minor": 2
}
