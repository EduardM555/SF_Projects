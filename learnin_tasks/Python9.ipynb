{
 "cells": [
  {
   "cell_type": "code",
   "execution_count": 18,
   "metadata": {},
   "outputs": [
    {
     "name": "stdout",
     "output_type": "stream",
     "text": [
      "{'Ivanov': 10, 'Petrov': 8, 'Sidorov': 12, 'Tikhonov': 20}\n",
      "['Petrov', 'Ivanov', 'Sidorov', 'Tikhonov']\n"
     ]
    }
   ],
   "source": [
    "test_dict = {'Ivanov': 10, 'Petrov': 8, 'Sidorov': 12, 'Tikhonov': 20}\n",
    "print(test_dict)\n",
    "print(sorted(test_dict, key=lambda x: test_dict[x]))"
   ]
  },
  {
   "cell_type": "code",
   "execution_count": 28,
   "metadata": {},
   "outputs": [
    {
     "name": "stdout",
     "output_type": "stream",
     "text": [
      "{'Ivanov': 10, 'Petrov': 8, 'Sidorov': 12, 'Tikhonov': 20}\n",
      "OrderedDict([('Ivanov', 10), ('Petrov', 8), ('Sidorov', 12), ('Tikhonov', 20)])\n",
      "{'Ivanov': 10, 'Petrov': 8, 'Sidorov': 12, 'Tikhonov': 20}\n",
      "[('Moscow', 10, 1), ('Voronezh', 1, 15), ('Lipetsk', 0.5, 30)]\n"
     ]
    }
   ],
   "source": [
    "from collections import OrderedDict\n",
    "\n",
    "pupils = {'Ivanov': 10, 'Petrov': 8, 'Sidorov': 12, 'Tikhonov': 20}\n",
    "print(pupils)\n",
    "ordered_pupils = OrderedDict(pupils)\n",
    "print(ordered_pupils)\n",
    "new_dict = dict(ordered_pupils)\n",
    "print(new_dict)\n",
    "\n",
    "cities = [('Moscow', 10, 1), ('Voronezh', 1, 15), ('Lipetsk', 0.5, 30)]\n",
    "print(cities)\n",
    "# cities_dict = dict(cities)\n",
    "# print(cities_dict)"
   ]
  },
  {
   "cell_type": "code",
   "execution_count": 29,
   "metadata": {},
   "outputs": [
    {
     "name": "stdout",
     "output_type": "stream",
     "text": [
      "3.10.6 (tags/v3.10.6:9c7b4bd, Aug  1 2022, 21:53:49) [MSC v.1932 64 bit (AMD64)]\n"
     ]
    }
   ],
   "source": [
    "import sys\n",
    "print(sys.version)"
   ]
  },
  {
   "cell_type": "code",
   "execution_count": 43,
   "metadata": {},
   "outputs": [
    {
     "name": "stdout",
     "output_type": "stream",
     "text": [
      "deque([])\n",
      "deque([1, 2])\n",
      "deque([4, 3, 1, 2])\n",
      "2\n",
      "4\n",
      "deque([3, 1])\n"
     ]
    },
    {
     "data": {
      "text/plain": [
       "3"
      ]
     },
     "execution_count": 43,
     "metadata": {},
     "output_type": "execute_result"
    }
   ],
   "source": [
    "from collections import deque\n",
    "\n",
    "dq = deque()\n",
    "print(dq)\n",
    "\n",
    "dq.append(1)\n",
    "dq.append(2)\n",
    "print(dq)\n",
    "\n",
    "dq.appendleft(3)\n",
    "dq.appendleft(4)\n",
    "print(dq)\n",
    "\n",
    "print(dq.pop())\n",
    "print(dq.popleft())\n",
    "print(dq)\n",
    "dq[1]\n",
    "\n",
    "dq[0]\n"
   ]
  },
  {
   "cell_type": "code",
   "execution_count": 45,
   "metadata": {},
   "outputs": [
    {
     "name": "stdout",
     "output_type": "stream",
     "text": [
      "deque([1, 2, 3, 4, 5])\n",
      "deque([1, 2, 3, 4, 5, 11, 12, 13, 14, 15, 16, 17])\n"
     ]
    }
   ],
   "source": [
    "shop = deque([1, 2, 3, 4, 5])\n",
    "print(shop)\n",
    "\n",
    "shop.extend([11, 12, 13, 14, 15, 16, 17])\n",
    "print(shop)"
   ]
  },
  {
   "cell_type": "code",
   "execution_count": 46,
   "metadata": {},
   "outputs": [
    {
     "name": "stdout",
     "output_type": "stream",
     "text": [
      "deque([1, 2, 3, 4, 5])\n",
      "deque([17, 16, 15, 14, 13, 12, 11, 1, 2, 3, 4, 5])\n"
     ]
    }
   ],
   "source": [
    "shop = deque([1, 2, 3, 4, 5])\n",
    "print(shop)\n",
    "shop.extendleft([11, 12, 13, 14, 15, 16, 17])\n",
    "print(shop)"
   ]
  },
  {
   "cell_type": "code",
   "execution_count": 51,
   "metadata": {},
   "outputs": [
    {
     "name": "stdout",
     "output_type": "stream",
     "text": [
      "20.77; 21.27; 22.16; 23.3; 24.44; 24.94; 25.56; 26.2; 25.97; 25.94; 25.57; 25.1; 24.81; 24.21; 23.23; 22.57; 21.41; 20.4; 19.6; 19.1; 19.04; 18.96; 19.44; 20.01; 20.67; "
     ]
    }
   ],
   "source": [
    "temps = [20.6, 19.4, 19.0, 19.0, 22.1,\n",
    "        22.5, 22.8, 24.1, 25.6, 27.0,\n",
    "        27.0, 25.6, 26.8, 27.3, 22.5,\n",
    "        25.4, 24.4, 23.7, 23.6, 22.6,\n",
    "        20.4, 17.9, 17.3, 17.3, 18.1,\n",
    "        20.1, 22.2, 19.8, 21.3, 21.3,\n",
    "        21.9]\n",
    "\n",
    "days = deque(maxlen=7)\n",
    "\n",
    "for temp in temps:\n",
    "    days.append(temp)\n",
    "    if len(days) == days.maxlen:\n",
    "        print(round(sum(days) / len(days), 2), end='; ')\n"
   ]
  },
  {
   "cell_type": "code",
   "execution_count": 38,
   "metadata": {},
   "outputs": [
    {
     "name": "stdout",
     "output_type": "stream",
     "text": [
      "OrderedDict([('2001', -2.5), ('2000', -4.4), ('2002', -4.4), ('2003', -9.5)])\n"
     ]
    }
   ],
   "source": [
    "# Дан список из кортежей temps. На первом месте в кортеже указан год в виде строки, а на втором \n",
    "# — средняя температура января в Петербурге в указанном году.\n",
    "\n",
    "# Необходимо напечатать словарь, в котором ключи — годы, а значения — показатели температуры.\n",
    "# Ключи необходимо отсортировать в порядке убывания соответствующих им температур.\n",
    "\n",
    "# Пример входа:\n",
    "\n",
    "# temps =  [('2000', -4.4), ('2001', -2.5), ('2002', -4.4), ('2003', -9.5)]\n",
    "# Пример вывода:\n",
    "\n",
    "# OrderedDict([('2001', -2.5), ('2000', -4.4), ('2002', -4.4), ('2003', -9.5)])\n",
    "from collections import OrderedDict\n",
    "\n",
    "temps =  [('2000', -4.4), ('2001', -2.5), ('2002', -4.4), ('2003', -9.5)]\n",
    "ordered_temps = OrderedDict(sorted(temps, key=lambda x: x[1], reverse=True))\n",
    "print(ordered_temps)\n",
    "# temps.sort(key=lambda x: x[1], reverse=True)\n",
    "# print(temps)\n",
    "# ordered_temps = OrderedDict(temps)\n",
    "# print(ordered_temps.sort(key=lambda x: x[1]))\n",
    "\n",
    "# ordered_temps = OrderedDict(temps)\n",
    "# print(ordered_temps)\n",
    "\n",
    "# print(sorted(ordered_temps, key=lambda x: ordered_temps[x]))"
   ]
  },
  {
   "cell_type": "code",
   "execution_count": 42,
   "metadata": {},
   "outputs": [
    {
     "name": "stdout",
     "output_type": "stream",
     "text": [
      "2\n"
     ]
    }
   ],
   "source": [
    "a = -1\n",
    "b = 1\n",
    "if a:\n",
    "    b *= 2\n",
    "print(b)"
   ]
  },
  {
   "cell_type": "code",
   "execution_count": 1,
   "metadata": {},
   "outputs": [
    {
     "name": "stdout",
     "output_type": "stream",
     "text": [
      "True\n",
      "True\n",
      "False\n"
     ]
    }
   ],
   "source": [
    "from collections import deque\n",
    "\n",
    "def brackets(line):\n",
    "    dq = deque()\n",
    "    for bracket in line:\n",
    "        if bracket == '(':\n",
    "            dq.append(bracket)\n",
    "        elif bracket == ')':\n",
    "            if len(dq) == 0:\n",
    "                return False\n",
    "            dq.pop()\n",
    "    if len(dq) == 0:\n",
    "        return True\n",
    "    return False\n",
    "    \n",
    "\n",
    "\n",
    "print(brackets(\"(()())\"))\n",
    "# True\n",
    "print(brackets(\"\"))\n",
    "# True\n",
    "print(brackets(\"(()()))\"))\n",
    "# False"
   ]
  },
  {
   "cell_type": "code",
   "execution_count": null,
   "metadata": {},
   "outputs": [],
   "source": [
    "from collections import Counter\n",
    "\n",
    "center = []\n",
    "sourth = []\n",
    "north = []\n",
    "\n",
    "\n",
    "center_list = [elem for bill in center for elem in bill]\n",
    "south_list = [elem for bill in south for elem in bill]\n",
    "north_list = [elem for bill in north for elem in bill]\n",
    "\n",
    "print(len(center_list))\n",
    "print(len(south_list))\n",
    "print(len(north_list))\n",
    "\n",
    "c = Counter(center_list)\n",
    "print(c)\n",
    "s = Counter(south_list)\n",
    "print(s)\n",
    "n = Counter(north_list)\n",
    "print(n)\n",
    "print(min(n.values()))\n",
    "\n",
    "c.subtract(n)\n",
    "print(c)\n",
    "\n",
    "def sum3(*args):\n",
    "    for i in range(len(args)):\n",
    "        k = 0\n",
    "        print(f'Элемент {args[i+k]} = {args[i+1+k] - args[i+2+k]}')\n",
    "        k += 1"
   ]
  },
  {
   "cell_type": "code",
   "execution_count": null,
   "metadata": {},
   "outputs": [],
   "source": [
    "from collections import OrderedDict\n",
    "from collections import deque\n",
    "from collections import defaultdict\n",
    "\n",
    "ratings = [('Old York', 3.3), ('New Age', 4.6), ('Old Gold', 3.3), ('General Foods', 4.8),\n",
    "           ('Belissimo', 4.5), ('CakeAndCoffee', 4.2), ('CakeOClock', 4.2), ('CakeTime', 4.1),\n",
    "           ('WokToWork', 4.9), ('WokAndRice', 4.9), ('Old Wine Cellar', 3.3), ('Nice Cakes', 3.9)]\n",
    "\n",
    "ratings.sort(key=lambda x: (-x[1], x[0]))\n",
    "cafes = OrderedDict(ratings)"
   ]
  },
  {
   "cell_type": "code",
   "execution_count": 4,
   "metadata": {},
   "outputs": [
    {
     "name": "stdout",
     "output_type": "stream",
     "text": [
      "Happy New 2023 Year! I love you!\n"
     ]
    }
   ],
   "source": [
    "print('Happy New 2023 Year!', end=' ')\n",
    "print('I love you!')"
   ]
  },
  {
   "cell_type": "code",
   "execution_count": 13,
   "metadata": {},
   "outputs": [
    {
     "name": "stdout",
     "output_type": "stream",
     "text": [
      "defaultdict(<class 'collections.deque'>, {'office': deque([36871, 40690, 33850]), 'voltage': deque([41667, 35364])})\n"
     ]
    }
   ],
   "source": [
    "tasks = [\n",
    "    (36871, 'office', False),\n",
    "    (40690, 'office', False),\n",
    "    (35364, 'voltage', False),\n",
    "    (41667, 'voltage', True),\n",
    "    (33850, 'office', False)\n",
    "    ]\n",
    "\n",
    "def task_manager(tasks):\n",
    "    task_manag = defaultdict(deque)\n",
    "    for task, server, priority in tasks:\n",
    "    # task_numbers.appendleft(task) if priority else task_numbers.append(task)\n",
    "        task_manag[server].appendleft(task) if priority else task_manag[server].append(task)\n",
    "    return task_manag\n",
    "\n",
    "print(task_manager(tasks))\n"
   ]
  }
 ],
 "metadata": {
  "kernelspec": {
   "display_name": "Python 3.10.6 64-bit",
   "language": "python",
   "name": "python3"
  },
  "language_info": {
   "codemirror_mode": {
    "name": "ipython",
    "version": 3
   },
   "file_extension": ".py",
   "mimetype": "text/x-python",
   "name": "python",
   "nbconvert_exporter": "python",
   "pygments_lexer": "ipython3",
   "version": "3.10.6 (tags/v3.10.6:9c7b4bd, Aug  1 2022, 21:53:49) [MSC v.1932 64 bit (AMD64)]"
  },
  "orig_nbformat": 4,
  "vscode": {
   "interpreter": {
    "hash": "9b4d75ac280b6c7c3aa43866cb82dc88915409b55fec83a093dd0284cb58708e"
   }
  }
 },
 "nbformat": 4,
 "nbformat_minor": 2
}
